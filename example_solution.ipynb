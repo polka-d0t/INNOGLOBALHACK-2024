{
 "cells": [
  {
   "cell_type": "markdown",
   "metadata": {},
   "source": [
    "# Пример решения кейса «VK:DevInsight»\n",
    "\n",
    "Чтобы вам было легче приступить к работе, мы подготовили пример анализа активности разработчика в репозитории на основе его коммитов. **Это не финальное решение, и некоторые важные шаги упущены**, но оно поможет понять основную идею задачи."
   ]
  },
  {
   "cell_type": "markdown",
   "metadata": {},
   "source": [
    "## Шаг 0\n",
    "**Выбор данных для анализа**\n",
    "\n",
    "Возьмём случайный пример из набора данных:\n",
    "\n",
    "```json\n",
    "{\n",
    "    \"github_profile\": \"https://github.com/kaedroho\",\n",
    "    \"archive_path\": \"repo_archives/wagtail.zip\",\n",
    "    \"repository\": \"https://github.com/wagtail/wagtail\",\n",
    "    \"name\": \"Karl Hobley\",\n",
    "    \"email\": \"karl@kaed.uk\"\n",
    "}\n",
    "```\n",
    "\n",
    "В этом примере GitHub-профиль разработчика — https://github.com/kaedroho, его и проанализируем."
   ]
  },
  {
   "cell_type": "markdown",
   "metadata": {},
   "source": [
    "## Шаг 1\n",
    "**Получение коммитов автора**\n",
    "\n",
    "Для начала, мы извлекли репозиторий в папку `repo_archives/wagtail`. Затем, использовали команду `git log` для извлечения всех коммитов, сделанных конкретным автором (в данном случае, автором был `Karl Hobley`, чей email `karl@kaed.uk`).\n",
    "\n",
    "**Важно**: параметр для команды `git log --author=`: имя или email разработчика, если они указаны в настройках его GitHub аккаунта. Для пользователя `Karl Hobley` эта информация доступна, поэтому ниже используется email. Иначе пришлось бы использовать никнейм `kaedroho`."
   ]
  },
  {
   "cell_type": "code",
   "execution_count": 1,
   "metadata": {},
   "outputs": [],
   "source": [
    "import subprocess\n",
    "import os\n",
    "\n",
    "def get_commits_by_author(author_id, repo_path):\n",
    "    try:\n",
    "        os.chdir(repo_path)\n",
    "        print(f\"Changed directory to {repo_path}\\n\")\n",
    "    except FileNotFoundError:\n",
    "        print(f\"Error: The directory {repo_path} does not exist.\")\n",
    "        return []\n",
    "\n",
    "    git_log_command = [\n",
    "        \"git\", \"log\", \"--author=\" + author_id, \"--pretty=format:%H %cd %s\", \"--date=iso\"\n",
    "    ]\n",
    "    result = subprocess.run(git_log_command, stdout=subprocess.PIPE, text=True)\n",
    "    commits = result.stdout.splitlines()\n",
    "    \n",
    "    return commits"
   ]
  },
  {
   "cell_type": "markdown",
   "metadata": {},
   "source": [
    "## Шаг 2\n",
    "**Выбор случайных коммитов**\n",
    "\n",
    "Из всех извлечённых коммитов мы случайным образом выбрали 10."
   ]
  },
  {
   "cell_type": "code",
   "execution_count": 2,
   "metadata": {},
   "outputs": [],
   "source": [
    "import random\n",
    "def select_random_commits(commits, n=10):\n",
    "    return random.sample(commits, min(n, len(commits)))"
   ]
  },
  {
   "cell_type": "markdown",
   "metadata": {},
   "source": [
    "## Шаг 3\n",
    "**Подготовка запроса для LLM**\n",
    "\n",
    "Теперь сформировали запрос для модели `LLama3.1-Instruct`. Далее, с её помощью мы оценим навыки разработчика на основе выбранных коммитов. Запрос содержит хэши, время и сообщения коммитов."
   ]
  },
  {
   "cell_type": "code",
   "execution_count": 3,
   "metadata": {},
   "outputs": [],
   "source": [
    "def prepare_prompt(commits):\n",
    "    prompt = \"Here are 10 random commits by the developer:\\n\\n\"\n",
    "    for i, commit in enumerate(commits, start=1):\n",
    "        # Split the result into hash, date-time, and commit message\n",
    "        commit_hash, commit_datetime, commit_message = commit.split(' ', 2)\n",
    "        prompt += f\"Commit {i}:\\nHash: {commit_hash}\\nDate: {commit_datetime}\\nMessage: {commit_message}\\n\\n\"\n",
    "    \n",
    "    prompt += \"Based on these commits, evaluate how good the developer is as a programmer on a scale from 0 to 10. \"\n",
    "    prompt += \"Add short (5 sentences) explanation of score you assigned to him.\"\n",
    "    return prompt"
   ]
  },
  {
   "cell_type": "markdown",
   "metadata": {},
   "source": [
    "## Шаг 4\n",
    "**Вызов API модели LLM**\n",
    "\n",
    "Мы отправили подготовленный запрос в API модели LLM, чтобы получить оценку уровня компетенций разработчика. Подробнее о параметрах генерации LLM можно прочитать [по ссылке](https://docs.google.com/document/d/1cCu6Ej7kEVMbFJI8qQ7ZTvYkkOwMIKrP5-zel6mByTY/edit?usp=sharing). "
   ]
  },
  {
   "cell_type": "code",
   "execution_count": 4,
   "metadata": {},
   "outputs": [
    {
     "name": "stdout",
     "output_type": "stream",
     "text": [
      "Requirement already satisfied: requests in /Users/elisey/.pyenv/versions/3.12.7/lib/python3.12/site-packages (2.32.3)\n",
      "Requirement already satisfied: charset-normalizer<4,>=2 in /Users/elisey/.pyenv/versions/3.12.7/lib/python3.12/site-packages (from requests) (3.4.0)\n",
      "Requirement already satisfied: idna<4,>=2.5 in /Users/elisey/.pyenv/versions/3.12.7/lib/python3.12/site-packages (from requests) (3.10)\n",
      "Requirement already satisfied: urllib3<3,>=1.21.1 in /Users/elisey/.pyenv/versions/3.12.7/lib/python3.12/site-packages (from requests) (2.2.3)\n",
      "Requirement already satisfied: certifi>=2017.4.17 in /Users/elisey/.pyenv/versions/3.12.7/lib/python3.12/site-packages (from requests) (2024.8.30)\n"
     ]
    }
   ],
   "source": [
    "!pip install requests"
   ]
  },
  {
   "cell_type": "code",
   "execution_count": 5,
   "metadata": {},
   "outputs": [],
   "source": [
    "import requests\n",
    "import json\n",
    "def evaluate_commits_with_llm(prompt):\n",
    "    url = \"https://vk-devinsight-case.olymp.innopolis.university/generate\"\n",
    "    data = {\n",
    "        \"prompt\": [prompt],\n",
    "        \"apply_chat_template\": True,\n",
    "        \"system_prompt\": \"You are a helpful assistant.\",\n",
    "        \"max_tokens\": 400,\n",
    "        \"n\": 1,\n",
    "        \"temperature\": 0.7\n",
    "    }\n",
    "\n",
    "    headers = {\n",
    "        \"Content-Type\": \"application/json\"\n",
    "    }\n",
    "\n",
    "    response = requests.post(url, data=json.dumps(data), headers=headers)\n",
    "    \n",
    "    if response.status_code == 200:\n",
    "        return response.json()\n",
    "    else:\n",
    "        return f\"Error: {response.status_code} - {response.text}\""
   ]
  },
  {
   "cell_type": "markdown",
   "metadata": {},
   "source": [
    "## Результат\n",
    "\n",
    "Модель оценила разработчика и выдала следующий ответ:"
   ]
  },
  {
   "cell_type": "code",
   "execution_count": 7,
   "metadata": {},
   "outputs": [
    {
     "name": "stdout",
     "output_type": "stream",
     "text": [
      "Changed directory to repo_archives/wagtail\n",
      "\n",
      "LLM Evaluation of Developer based on 10 Random Commits:\n",
      "I would rate this developer a 7 out of 10. \n",
      "\n",
      "The developer appears to be proficient in their craft, making a variety of changes to the codebase over time, including improvements to syntax, performance optimizations, and bug fixes. The commit messages are clear and concise, indicating a good understanding of the importance of documentation. The developer has also shown an ability to work with different technologies such as Elasticsearch and seems to be following best practices. However, the commits don't necessarily convey a sense of innovation or outside-the-box thinking, and the developer may be more of a maintenance-focused coder. Overall, the developer seems to be a solid, dependable programmer, but may not be pushing the boundaries of what is possible with code.\n"
     ]
    }
   ],
   "source": [
    "repo_path = \"repo_archives/wagtail\"\n",
    "email = \"karl@kaed.uk\"\n",
    "\n",
    "# Get commits from the repository\n",
    "commits = get_commits_by_author(email, repo_path)\n",
    "\n",
    "# Select 10 random commits\n",
    "random_commits = select_random_commits(commits)\n",
    "\n",
    "# Prepare the prompt for the LLM\n",
    "prompt = prepare_prompt(random_commits)\n",
    "\n",
    "# Send the prompt to the LLM and get the evaluation\n",
    "evaluation = evaluate_commits_with_llm(prompt)\n",
    "\n",
    "# Output the result\n",
    "print(\"LLM Evaluation of Developer based on 10 Random Commits:\")\n",
    "print(evaluation)"
   ]
  },
  {
   "cell_type": "markdown",
   "metadata": {},
   "source": [
    "## Следующие шаги\n",
    "\n",
    "Данное решение учитывает не всю доступную информацию о разработчике: в анализ не попадает даже код рассматриваемых коммитов. Помимо коммитов, можно рассматривать и другие активности: участие в обсуждениях, создание pull-request'ов и т.д.\n",
    "\n",
    "\n",
    "## Учтите, что\n",
    "Решение участников **должно** составлять карту компетенций разработчика. Карта компетенций может включать в себя уровень владения языками программирования, опыт работы с конкретными технологиями, степень участия в архитектурных решениях и тд. Помните, что цель этого задания - создать инструмент, способный значительно ускорить и автоматизировать оценку навыков программистов.\n",
    "\n",
    "Удачи в разработке решений!"
   ]
  }
 ],
 "metadata": {
  "kernelspec": {
   "display_name": "Python 3",
   "language": "python",
   "name": "python3"
  },
  "language_info": {
   "codemirror_mode": {
    "name": "ipython",
    "version": 3
   },
   "file_extension": ".py",
   "mimetype": "text/x-python",
   "name": "python",
   "nbconvert_exporter": "python",
   "pygments_lexer": "ipython3",
   "version": "3.12.7"
  }
 },
 "nbformat": 4,
 "nbformat_minor": 2
}
